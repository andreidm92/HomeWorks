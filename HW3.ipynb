{
 "cells": [
  {
   "cell_type": "code",
   "execution_count": 61,
   "metadata": {},
   "outputs": [],
   "source": [
    "import numpy as np\n",
    "import matplotlib.pyplot as plt"
   ]
  },
  {
   "cell_type": "code",
   "execution_count": null,
   "metadata": {},
   "outputs": [],
   "source": []
  },
  {
   "cell_type": "markdown",
   "metadata": {},
   "source": [
    "#### Домашнее задание:\n",
    "Задание 1: Измените функцию calc_logloss так, чтобы нули по возможности не попадали в np.log.\n"
   ]
  },
  {
   "cell_type": "code",
   "execution_count": 98,
   "metadata": {},
   "outputs": [],
   "source": [
    "def calc_logloss(y, y_pred):\n",
    "    b=0.001\n",
    "    y_pred = np.clip(y_pred, a_min = b, a_max = 1-b)\n",
    "    err = - np.mean(y * np.log(y_pred) + (1.0 - y) * np.log(1.0 - y_pred))\n",
    "    return err"
   ]
  },
  {
   "cell_type": "markdown",
   "metadata": {},
   "source": [
    "#### Задание 2: Подберите аргументы функции eval_model для логистической регрессии таким образом, чтобы log loss был минимальным.\n"
   ]
  },
  {
   "cell_type": "code",
   "execution_count": 99,
   "metadata": {},
   "outputs": [],
   "source": [
    "X = np.array([[1, 1, 1, 1, 1, 1, 1, 1, 1, 1],\n",
    "              [1, 1, 2, 1, 3, 0, 5, 10, 1, 2],\n",
    "              [500, 700, 750, 600, 1450,\n",
    "               800, 1500, 2000, 450, 1000],\n",
    "              [1, 1, 2, 1, 2, \n",
    "               1, 3, 3, 1, 2]], dtype = np.float64)\n",
    "\n",
    "y = np.array([0, 0, 1, 0, 1, 0, 1, 0, 1, 1], dtype = np.float64)"
   ]
  },
  {
   "cell_type": "code",
   "execution_count": 100,
   "metadata": {},
   "outputs": [],
   "source": [
    "def sigmoid(z):\n",
    "    res = 1 / (1 + np.exp(-z))\n",
    "    return res"
   ]
  },
  {
   "cell_type": "markdown",
   "metadata": {},
   "source": [
    "#### Logistic Regression"
   ]
  },
  {
   "cell_type": "code",
   "execution_count": 101,
   "metadata": {},
   "outputs": [],
   "source": [
    "def eval_model(X, y, iterations, alpha=1e-4):\n",
    "    np.random.seed(42)\n",
    "    W = np.random.randn(X.shape[0])\n",
    "    errors = []\n",
    "    Weights = []\n",
    "    n = X.shape[1]\n",
    "    for i in range(1, iterations+1):\n",
    "        z = np.dot(W, X)\n",
    "        y_pred = sigmoid(z)\n",
    "        err = calc_logloss(y, y_pred)\n",
    "        W -= alpha * (1/n * np.dot((y_pred - y), X.T))\n",
    "        errors.append(err)\n",
    "        Weights.append(W)\n",
    "    errors = np.array(errors)\n",
    "    return errors, Weights"
   ]
  },
  {
   "cell_type": "code",
   "execution_count": 104,
   "metadata": {},
   "outputs": [
    {
     "name": "stderr",
     "output_type": "stream",
     "text": [
      "C:\\ProgramData\\Anaconda3\\lib\\site-packages\\ipykernel_launcher.py:2: RuntimeWarning: overflow encountered in exp\n",
      "  \n"
     ]
    },
    {
     "name": "stdout",
     "output_type": "stream",
     "text": [
      "3.4543778896578603\n",
      "[ -429.85317529 -1066.13770889   238.3137846   1529.22336152]\n",
      "3.4543778896578603\n",
      "[ -85.52302012 -213.57577966   46.16187953  307.08382704]\n",
      "3.4543778896578603\n",
      "[ -50.84531439 -129.49745754   14.22166175  184.96716266]\n",
      "3.4543778896578594\n",
      "[ -8.13752042 -21.41610519  -1.37840032  32.0611602 ]\n",
      "3.4543778896578603\n",
      "[-0.39762246 -2.18272191  0.09458209  4.55638155]\n",
      "1.9083682908826063\n",
      "[ 0.36579954 -0.30544036  0.03969501  1.80354203]\n",
      "0.8429606038958551\n",
      "[ 0.4783702  -0.14856914 -0.00413787  1.54314539]\n"
     ]
    }
   ],
   "source": [
    "for alpha in [0.5, 0.1, 0.06, 0.01, 0.001, 0.0001, 0.00001]:\n",
    "    errors_list, weights_list = eval_model(X, y, iterations = 30000, alpha = alpha )\n",
    "    print(errors_list[-1])\n",
    "    print(weights_list[-1])\n",
    "    "
   ]
  },
  {
   "cell_type": "code",
   "execution_count": null,
   "metadata": {},
   "outputs": [],
   "source": []
  },
  {
   "cell_type": "markdown",
   "metadata": {},
   "source": [
    "#### Задание 3: Создайте функцию calc_pred_proba, возвращающую предсказанную вероятность класса 1 (на вход подаются W, который уже посчитан функцией eval_model и X, на выходе - массив y_pred_proba).\n"
   ]
  },
  {
   "cell_type": "code",
   "execution_count": 68,
   "metadata": {},
   "outputs": [],
   "source": [
    "def calc_pred_proba(W, X):\n",
    "    y_forecast = 1 / (1 + np.exp(-np.dot(W,X)))\n",
    "    return y_forecast"
   ]
  },
  {
   "cell_type": "code",
   "execution_count": 69,
   "metadata": {},
   "outputs": [
    {
     "data": {
      "text/plain": [
       "array([0.45091443, 0.26368886, 0.53691502, 0.3516191 , 0.05229711,\n",
       "       0.21391627, 0.13439504, 0.00957292, 0.50262493, 0.29122261])"
      ]
     },
     "execution_count": 69,
     "metadata": {},
     "output_type": "execute_result"
    }
   ],
   "source": [
    "calc_pred_proba(weights_list[-1], X)"
   ]
  },
  {
   "cell_type": "markdown",
   "metadata": {},
   "source": [
    "#### Задание 4: Создайте функцию calc_pred, возвращающую предсказанный класс (на вход подаются W, который уже посчитан функцией eval_model и X, на выходе - массив y_pred).\n"
   ]
  },
  {
   "cell_type": "code",
   "execution_count": 75,
   "metadata": {},
   "outputs": [],
   "source": [
    "def calc_pred(W, X, level):\n",
    "    y_prognoz = calc_pred_proba(W, X)\n",
    "    y_prognoz = np.where(y_prognoz > level, 1, 0)\n",
    "    return y_prognoz"
   ]
  },
  {
   "cell_type": "code",
   "execution_count": 77,
   "metadata": {},
   "outputs": [
    {
     "data": {
      "text/plain": [
       "array([0, 0, 1, 0, 0, 0, 0, 0, 1, 0])"
      ]
     },
     "execution_count": 77,
     "metadata": {},
     "output_type": "execute_result"
    }
   ],
   "source": [
    "calc_pred(weights_list[-1], X, 0.5)"
   ]
  },
  {
   "cell_type": "markdown",
   "metadata": {},
   "source": [
    "#### Задание 5: Посчитайте Accuracy, матрицу ошибок, точность и полноту, а также F1 score.\n"
   ]
  },
  {
   "cell_type": "code",
   "execution_count": 82,
   "metadata": {},
   "outputs": [],
   "source": [
    "def accuracy (y, y_pred):\n",
    "    Score = y == y_pred\n",
    "    return Sum(Score)/len(y)"
   ]
  },
  {
   "cell_type": "code",
   "execution_count": null,
   "metadata": {},
   "outputs": [],
   "source": [
    "def matrix_mistakes(y, y_pred):\n",
    "    matrix_mistakes = np.zeros(shape = (2,2)\n",
    "    matrix_mistakes[0,0] = np.sum(np.where(y == 0, y_pred == y, False))\n",
    "    matrix_mistakes[1,1] = np.sum(np.where(y == 1, y_pred == y, False))\n",
    "    matrix_mistakes[1,0] = np.sum(np.where(y == 1, y_pred == y, False))\n",
    "    matrix_mistakes[0,1] = len(y) - matrix_mistakes.sum()\n",
    "    \n",
    "    return matrix_mistakes,astype(int)\n",
    "                               "
   ]
  },
  {
   "cell_type": "code",
   "execution_count": null,
   "metadata": {},
   "outputs": [],
   "source": []
  },
  {
   "cell_type": "markdown",
   "metadata": {},
   "source": [
    "Задание 6: Могла ли модель переобучиться? Почему?\n"
   ]
  },
  {
   "cell_type": "code",
   "execution_count": null,
   "metadata": {},
   "outputs": [],
   "source": [
    "Обычно переобучение происходит при увеличении сложности модели, когда модель стремится описать все возможные состояния системы.\n",
    "У нас пока этого не призошло, об этом и говорят коэффициенты весов, которые в норме для приемлемых значений альфа."
   ]
  }
 ],
 "metadata": {
  "kernelspec": {
   "display_name": "Python 3",
   "language": "python",
   "name": "python3"
  },
  "language_info": {
   "codemirror_mode": {
    "name": "ipython",
    "version": 3
   },
   "file_extension": ".py",
   "mimetype": "text/x-python",
   "name": "python",
   "nbconvert_exporter": "python",
   "pygments_lexer": "ipython3",
   "version": "3.7.6"
  }
 },
 "nbformat": 4,
 "nbformat_minor": 4
}
